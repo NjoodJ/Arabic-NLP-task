{
  "cells": [
    {
      "cell_type": "markdown",
      "metadata": {
        "colab_type": "text",
        "id": "view-in-github"
      },
      "source": [
        "<a href=\"https://colab.research.google.com/github/NjoodJ/Training/blob/main/11_Sentiment_analysis_for_Arabic_Tweets.ipynb\" target=\"_parent\"><img src=\"https://colab.research.google.com/assets/colab-badge.svg\" alt=\"Open In Colab\"/></a>"
      ]
    },
    {
      "cell_type": "code",
      "execution_count": 1,
      "metadata": {
        "colab": {
          "base_uri": "https://localhost:8080/",
          "height": 363
        },
        "id": "oh8V28tuGI4A",
        "outputId": "6a91f395-ab01-41d8-f266-28fbf187397a"
      },
      "outputs": [],
      "source": [
        "import pandas as pd\n",
        "from tensorflow.keras.preprocessing.text import Tokenizer\n",
        "from tensorflow.keras.preprocessing.sequence import pad_sequences\n",
        "from tensorflow.keras.models import Sequential\n",
        "from tensorflow.keras.layers import LSTM,Dense, Dropout, SpatialDropout1D\n",
        "from tensorflow.keras.layers import Embedding\n",
        "from matplotlib import pyplot as plt"
      ]
    },
    {
      "cell_type": "code",
      "execution_count": 2,
      "metadata": {},
      "outputs": [
        {
          "data": {
            "text/html": [
              "<div>\n",
              "<style scoped>\n",
              "    .dataframe tbody tr th:only-of-type {\n",
              "        vertical-align: middle;\n",
              "    }\n",
              "\n",
              "    .dataframe tbody tr th {\n",
              "        vertical-align: top;\n",
              "    }\n",
              "\n",
              "    .dataframe thead th {\n",
              "        text-align: right;\n",
              "    }\n",
              "</style>\n",
              "<table border=\"1\" class=\"dataframe\">\n",
              "  <thead>\n",
              "    <tr style=\"text-align: right;\">\n",
              "      <th></th>\n",
              "      <th>tweet</th>\n",
              "      <th>Label</th>\n",
              "    </tr>\n",
              "  </thead>\n",
              "  <tbody>\n",
              "    <tr>\n",
              "      <th>0</th>\n",
              "      <td>' #علمتني_الحياه أن الذين يعيشون على الأرض ليس...</td>\n",
              "      <td>pos</td>\n",
              "    </tr>\n",
              "    <tr>\n",
              "      <th>1</th>\n",
              "      <td>' #ميري_كرسمس كل سنة وانتم طيبين http://t.co/n...</td>\n",
              "      <td>pos</td>\n",
              "    </tr>\n",
              "    <tr>\n",
              "      <th>2</th>\n",
              "      <td>' و انتهى مشوار الخواجة '</td>\n",
              "      <td>neg</td>\n",
              "    </tr>\n",
              "    <tr>\n",
              "      <th>3</th>\n",
              "      <td>' مش عارف ابتدى مذاكره منين :/ '</td>\n",
              "      <td>neg</td>\n",
              "    </tr>\n",
              "    <tr>\n",
              "      <th>4</th>\n",
              "      <td>' @mskhafagi  إختصروا الطريق بدلا من إختيار ال...</td>\n",
              "      <td>neg</td>\n",
              "    </tr>\n",
              "    <tr>\n",
              "      <th>5</th>\n",
              "      <td>' إذ خانت المرأة فهي تبحث عن الإهتمام .. و إذ ...</td>\n",
              "      <td>neg</td>\n",
              "    </tr>\n",
              "    <tr>\n",
              "      <th>6</th>\n",
              "      <td>' يا حبيبتي البعد ناار قلبي داب من الانتظار ♡ '</td>\n",
              "      <td>pos</td>\n",
              "    </tr>\n",
              "    <tr>\n",
              "      <th>7</th>\n",
              "      <td>' \"\"\"يا سامحك الله، من علّمك أن تكون خيبة؟\"\"\"\" '</td>\n",
              "      <td>neg</td>\n",
              "    </tr>\n",
              "    <tr>\n",
              "      <th>8</th>\n",
              "      <td>' خى مالها قفلت من كل حتة كده لييه ! '</td>\n",
              "      <td>neg</td>\n",
              "    </tr>\n",
              "    <tr>\n",
              "      <th>9</th>\n",
              "      <td>' الناس اللى حضرت حفلات البرلمان القديم ياريت ...</td>\n",
              "      <td>neg</td>\n",
              "    </tr>\n",
              "  </tbody>\n",
              "</table>\n",
              "</div>"
            ],
            "text/plain": [
              "                                               tweet Label\n",
              "0  ' #علمتني_الحياه أن الذين يعيشون على الأرض ليس...   pos\n",
              "1  ' #ميري_كرسمس كل سنة وانتم طيبين http://t.co/n...   pos\n",
              "2                          ' و انتهى مشوار الخواجة '   neg\n",
              "3                   ' مش عارف ابتدى مذاكره منين :/ '   neg\n",
              "4  ' @mskhafagi  إختصروا الطريق بدلا من إختيار ال...   neg\n",
              "5  ' إذ خانت المرأة فهي تبحث عن الإهتمام .. و إذ ...   neg\n",
              "6    ' يا حبيبتي البعد ناار قلبي داب من الانتظار ♡ '   pos\n",
              "7   ' \"\"\"يا سامحك الله، من علّمك أن تكون خيبة؟\"\"\"\" '   neg\n",
              "8             ' خى مالها قفلت من كل حتة كده لييه ! '   neg\n",
              "9  ' الناس اللى حضرت حفلات البرلمان القديم ياريت ...   neg"
            ]
          },
          "execution_count": 2,
          "metadata": {},
          "output_type": "execute_result"
        }
      ],
      "source": [
        "df = pd.read_csv(r'C:\\Users\\User\\Downloads\\Twitter_train.csv', sep = ',')\n",
        "df.head(10)"
      ]
    },
    {
      "cell_type": "code",
      "execution_count": 3,
      "metadata": {
        "colab": {
          "base_uri": "https://localhost:8080/"
        },
        "id": "PzBTUzjOHIKz",
        "outputId": "def640ec-6cbe-409c-eb3f-34974213ffb3"
      },
      "outputs": [
        {
          "data": {
            "text/plain": [
              "(array([0, 0, 1, ..., 0, 1, 2], dtype=int64),\n",
              " Index(['pos', 'neg', 'neu'], dtype='object'))"
            ]
          },
          "execution_count": 3,
          "metadata": {},
          "output_type": "execute_result"
        }
      ],
      "source": [
        "Texts = df\n",
        "sentiment_clean = Texts.Label.factorize()\t\n",
        "sentiment_clean"
      ]
    },
    {
      "cell_type": "code",
      "execution_count": 4,
      "metadata": {
        "colab": {
          "base_uri": "https://localhost:8080/"
        },
        "id": "ID6cdhmo8Ji9",
        "outputId": "d4c99a7c-4487-4792-e692-30a1afc54aa0"
      },
      "outputs": [],
      "source": [
        "Rev = Texts.tweet.values\n",
        "tokenizer = Tokenizer(num_words = 5000)\n",
        "df = df.dropna()\n",
        "tokenizer.fit_on_texts(Rev)\n",
        "size = len(tokenizer.word_index) + 1\n",
        "encoded = tokenizer.texts_to_sequences(Rev)\n",
        "paded_sequences = pad_sequences(encoded, maxlen = 200)\n"
      ]
    },
    {
      "cell_type": "code",
      "execution_count": 5,
      "metadata": {
        "colab": {
          "base_uri": "https://localhost:8080/"
        },
        "id": "h_O9ABxGH-Ox",
        "outputId": "e1911cbc-292e-4a14-f40d-53a7a78faf5b"
      },
      "outputs": [
        {
          "name": "stdout",
          "output_type": "stream",
          "text": [
            "' #علمتني_الحياه أن الذين يعيشون على الأرض ليسوا ملائكة بل بشر قد يصيبوا وقد يخطئوا فلا يجوز أن أحكم على شخص من موقف واحد تعاملت معه فيه '\n",
            "[1, 1267, 378, 47, 593, 2536, 11, 594, 2537, 2538, 460, 1268, 168, 2539, 814, 2540, 266, 1269, 47, 2541, 11, 815, 2, 816, 48, 2542, 817, 50, 1]\n"
          ]
        }
      ],
      "source": [
        "print(Rev[0])\n",
        "print(encoded[0])"
      ]
    },
    {
      "cell_type": "code",
      "execution_count": 12,
      "metadata": {
        "colab": {
          "base_uri": "https://localhost:8080/"
        },
        "id": "u8_6hU9t9p9v",
        "outputId": "ae9c5793-7a72-4329-d19f-4d8d7670418a"
      },
      "outputs": [
        {
          "name": "stdout",
          "output_type": "stream",
          "text": [
            "Model: \"sequential_1\"\n",
            "_________________________________________________________________\n",
            " Layer (type)                Output Shape              Param #   \n",
            "=================================================================\n",
            " embedding_1 (Embedding)     (None, 200, 32)           391168    \n",
            "                                                                 \n",
            " spatial_dropout1d_1 (Spati  (None, 200, 32)           0         \n",
            " alDropout1D)                                                    \n",
            "                                                                 \n",
            " lstm_1 (LSTM)               (None, 50)                16600     \n",
            "                                                                 \n",
            " dropout_1 (Dropout)         (None, 50)                0         \n",
            "                                                                 \n",
            " dense_1 (Dense)             (None, 1)                 51        \n",
            "                                                                 \n",
            "=================================================================\n",
            "Total params: 407819 (1.56 MB)\n",
            "Trainable params: 407819 (1.56 MB)\n",
            "Non-trainable params: 0 (0.00 Byte)\n",
            "_________________________________________________________________\n",
            "None\n"
          ]
        }
      ],
      "source": [
        "embedding_vector_length = 32\n",
        "Model = Sequential() \n",
        "Model.add(Embedding(size, embedding_vector_length, input_length=200) )\n",
        "Model.add(SpatialDropout1D(0.25))\n",
        "Model.add(LSTM(50, dropout=0.5, recurrent_dropout=0.5))\n",
        "Model.add(Dropout(0.2))\n",
        "Model.add(Dense(1, activation='sigmoid')) \n",
        "Model.compile(loss='binary_crossentropy',optimizer='adam', metrics=['accuracy'])  \n",
        "print(Model.summary())"
      ]
    },
    {
      "cell_type": "code",
      "execution_count": 13,
      "metadata": {
        "colab": {
          "base_uri": "https://localhost:8080/"
        },
        "id": "sBT8oW-Z93TU",
        "outputId": "afb0d261-6f16-42db-d5a3-35213a63fd86"
      },
      "outputs": [
        {
          "name": "stdout",
          "output_type": "stream",
          "text": [
            "Epoch 1/30\n",
            "103/103 [==============================] - 6s 48ms/step - loss: 0.3806 - accuracy: 0.3455 - val_loss: 0.3473 - val_accuracy: 0.2670\n",
            "Epoch 2/30\n",
            "103/103 [==============================] - 5s 47ms/step - loss: 0.3082 - accuracy: 0.3443 - val_loss: 0.3887 - val_accuracy: 0.2670\n",
            "Epoch 3/30\n",
            "103/103 [==============================] - 5s 46ms/step - loss: 0.1810 - accuracy: 0.3473 - val_loss: 9.9178e-04 - val_accuracy: 0.2791\n",
            "Epoch 4/30\n",
            "103/103 [==============================] - 5s 46ms/step - loss: -0.0021 - accuracy: 0.4062 - val_loss: 1.1038 - val_accuracy: 0.2670\n",
            "Epoch 5/30\n",
            "103/103 [==============================] - 5s 46ms/step - loss: 0.5593 - accuracy: 0.3588 - val_loss: -0.0748 - val_accuracy: 0.3932\n",
            "Epoch 6/30\n",
            "103/103 [==============================] - 5s 46ms/step - loss: -1.5728 - accuracy: 0.5398 - val_loss: -0.8305 - val_accuracy: 0.4150\n",
            "Epoch 7/30\n",
            "103/103 [==============================] - 5s 46ms/step - loss: -2.0571 - accuracy: 0.5537 - val_loss: -1.2837 - val_accuracy: 0.3932\n",
            "Epoch 8/30\n",
            "103/103 [==============================] - 5s 46ms/step - loss: -3.9633 - accuracy: 0.5507 - val_loss: -1.5897 - val_accuracy: 0.4053\n",
            "Epoch 9/30\n",
            "103/103 [==============================] - 5s 46ms/step - loss: -5.8449 - accuracy: 0.6053 - val_loss: -2.1232 - val_accuracy: 0.4102\n",
            "Epoch 10/30\n",
            "103/103 [==============================] - 5s 46ms/step - loss: -7.4848 - accuracy: 0.6254 - val_loss: -2.4468 - val_accuracy: 0.4223\n",
            "Epoch 11/30\n",
            "103/103 [==============================] - 5s 46ms/step - loss: -9.3714 - accuracy: 0.6223 - val_loss: -2.7593 - val_accuracy: 0.4199\n",
            "Epoch 12/30\n",
            "103/103 [==============================] - 5s 46ms/step - loss: -10.9637 - accuracy: 0.6503 - val_loss: -3.4977 - val_accuracy: 0.4272\n",
            "Epoch 13/30\n",
            "103/103 [==============================] - 5s 46ms/step - loss: -12.3687 - accuracy: 0.6497 - val_loss: -3.6527 - val_accuracy: 0.4272\n",
            "Epoch 14/30\n",
            "103/103 [==============================] - 5s 46ms/step - loss: -14.0986 - accuracy: 0.6557 - val_loss: -4.1300 - val_accuracy: 0.4272\n",
            "Epoch 15/30\n",
            "103/103 [==============================] - 5s 46ms/step - loss: -15.7461 - accuracy: 0.6624 - val_loss: -4.0671 - val_accuracy: 0.4320\n",
            "Epoch 16/30\n",
            "103/103 [==============================] - 5s 47ms/step - loss: -16.9886 - accuracy: 0.6697 - val_loss: -5.2441 - val_accuracy: 0.4369\n",
            "Epoch 17/30\n",
            "103/103 [==============================] - 5s 46ms/step - loss: -18.3191 - accuracy: 0.6642 - val_loss: -5.0563 - val_accuracy: 0.4320\n",
            "Epoch 18/30\n",
            "103/103 [==============================] - 5s 46ms/step - loss: -20.1336 - accuracy: 0.6746 - val_loss: -5.0378 - val_accuracy: 0.4296\n",
            "Epoch 19/30\n",
            "103/103 [==============================] - 5s 47ms/step - loss: -21.2989 - accuracy: 0.6679 - val_loss: -5.6802 - val_accuracy: 0.4417\n",
            "Epoch 20/30\n",
            "103/103 [==============================] - 5s 46ms/step - loss: -22.7238 - accuracy: 0.6685 - val_loss: -6.7891 - val_accuracy: 0.4442\n",
            "Epoch 21/30\n",
            "103/103 [==============================] - 5s 46ms/step - loss: -24.1888 - accuracy: 0.6740 - val_loss: -5.5555 - val_accuracy: 0.4587\n",
            "Epoch 22/30\n",
            "103/103 [==============================] - 5s 47ms/step - loss: -25.0724 - accuracy: 0.6764 - val_loss: -7.2467 - val_accuracy: 0.4296\n",
            "Epoch 23/30\n",
            "103/103 [==============================] - 5s 47ms/step - loss: -26.5926 - accuracy: 0.6703 - val_loss: -8.2019 - val_accuracy: 0.4515\n",
            "Epoch 24/30\n",
            "103/103 [==============================] - 5s 46ms/step - loss: -28.0039 - accuracy: 0.6782 - val_loss: -7.1729 - val_accuracy: 0.4539\n",
            "Epoch 25/30\n",
            "103/103 [==============================] - 5s 46ms/step - loss: -29.4838 - accuracy: 0.6770 - val_loss: -8.7384 - val_accuracy: 0.4563\n",
            "Epoch 26/30\n",
            "103/103 [==============================] - 5s 47ms/step - loss: -30.5752 - accuracy: 0.6806 - val_loss: -8.8006 - val_accuracy: 0.4587\n",
            "Epoch 27/30\n",
            "103/103 [==============================] - 5s 46ms/step - loss: -32.1752 - accuracy: 0.6855 - val_loss: -7.6591 - val_accuracy: 0.4612\n",
            "Epoch 28/30\n",
            "103/103 [==============================] - 5s 47ms/step - loss: -33.4131 - accuracy: 0.6806 - val_loss: -7.2935 - val_accuracy: 0.4417\n",
            "Epoch 29/30\n",
            "103/103 [==============================] - 5s 47ms/step - loss: -34.5872 - accuracy: 0.6794 - val_loss: -8.0841 - val_accuracy: 0.4733\n",
            "Epoch 30/30\n",
            "103/103 [==============================] - 5s 46ms/step - loss: -35.9405 - accuracy: 0.6843 - val_loss: -8.1516 - val_accuracy: 0.4442\n"
          ]
        }
      ],
      "source": [
        "history = Model.fit(paded_sequences,sentiment_clean[0],validation_split=0.2, epochs=30, batch_size=16)"
      ]
    },
    {
      "cell_type": "code",
      "execution_count": 14,
      "metadata": {
        "colab": {
          "base_uri": "https://localhost:8080/",
          "height": 265
        },
        "id": "_pnWdCaY-X1O",
        "outputId": "5e7d460f-6de8-415e-9db0-6cf9c1f262da"
      },
      "outputs": [
        {
          "data": {
            "image/png": "[encoded data removed]",
            "text/plain": [
              "<Figure size 640x480 with 1 Axes>"
            ]
          },
          "metadata": {},
          "output_type": "display_data"
        }
      ],
      "source": [
        "plt.plot(history.history['accuracy'], label='accuracy')\n",
        "plt.plot(history.history['val_accuracy'], label='valaidation_acc')\n",
        "plt.legend()\n",
        "plt.show()"
      ]
    },
    {
      "cell_type": "code",
      "execution_count": 15,
      "metadata": {
        "colab": {
          "base_uri": "https://localhost:8080/",
          "height": 265
        },
        "id": "TPmpKBUqFepj",
        "outputId": "af156ac5-6729-42a7-bca4-3a0b06603a37"
      },
      "outputs": [
        {
          "data": {
            "image/png": "[encoded data removed]",
            "text/plain": [
              "<Figure size 640x480 with 1 Axes>"
            ]
          },
          "metadata": {},
          "output_type": "display_data"
        }
      ],
      "source": [
        "plt.plot(history.history['loss'], label='loss')\n",
        "plt.plot(history.history['val_loss'], label='valaidation_acc')\n",
        "plt.legend()\n",
        "plt.show()"
      ]
    },
    {
      "cell_type": "code",
      "execution_count": 16,
      "metadata": {
        "colab": {
          "base_uri": "https://localhost:8080/"
        },
        "id": "N_9IZdJYFgEq",
        "outputId": "98cc591d-53c1-40dc-9971-bacfa8440640"
      },
      "outputs": [
        {
          "data": {
            "text/plain": [
              "[[417, 7, 32, 245, 16, 943]]"
            ]
          },
          "execution_count": 16,
          "metadata": {},
          "output_type": "execute_result"
        }
      ],
      "source": [
        "Test =\"الجو في البداية كان كويس بس بعدين صار بارد\"\n",
        "tw = tokenizer.texts_to_sequences([Test])\n",
        "tw"
      ]
    },
    {
      "cell_type": "code",
      "execution_count": 17,
      "metadata": {
        "colab": {
          "base_uri": "https://localhost:8080/"
        },
        "id": "QGgVxdHWFxYa",
        "outputId": "1b8281aa-172c-433e-fd0d-547cf054709b"
      },
      "outputs": [
        {
          "name": "stdout",
          "output_type": "stream",
          "text": [
            "1/1 [==============================] - 0s 116ms/step\n"
          ]
        },
        {
          "data": {
            "text/plain": [
              "'neg'"
            ]
          },
          "execution_count": 17,
          "metadata": {},
          "output_type": "execute_result"
        }
      ],
      "source": [
        "tw = pad_sequences(tw,maxlen=200)\n",
        "prediction = int(Model.predict(tw).round().item())\n",
        "sentiment_clean[1][prediction]"
      ]
    }
  ],
  "metadata": {
    "colab": {
      "authorship_tag": "ABX9TyMVQmVwukfdf9RgPHn6GxQ8",
      "collapsed_sections": [],
      "include_colab_link": true,
      "name": "11- Sentiment analysis for Arabic Tweets.ipynb",
      "provenance": []
    },
    "kernelspec": {
      "display_name": "Python 3",
      "name": "python3"
    },
    "language_info": {
      "codemirror_mode": {
        "name": "ipython",
        "version": 3
      },
      "file_extension": ".py",
      "mimetype": "text/x-python",
      "name": "python",
      "nbconvert_exporter": "python",
      "pygments_lexer": "ipython3",
      "version": "3.8.17"
    }
  },
  "nbformat": 4,
  "nbformat_minor": 0
}
